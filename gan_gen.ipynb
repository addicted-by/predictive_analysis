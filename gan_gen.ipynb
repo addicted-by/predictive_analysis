{
  "cells": [
    {
      "cell_type": "code",
      "execution_count": null,
      "metadata": {
        "id": "ALHlnYJYRB5-"
      },
      "outputs": [],
      "source": [
        "# !pip install tensorflow==1.15"
      ]
    },
    {
      "cell_type": "code",
      "execution_count": null,
      "metadata": {
        "colab": {
          "base_uri": "https://localhost:8080/",
          "height": 36
        },
        "id": "cZrUkvCgREKS",
        "outputId": "9bb506de-b1e5-42ff-9344-eb7b10765647"
      },
      "outputs": [
        {
          "data": {
            "application/vnd.google.colaboratory.intrinsic+json": {
              "type": "string"
            },
            "text/plain": [
              "'1.15.0'"
            ]
          },
          "execution_count": 2,
          "metadata": {},
          "output_type": "execute_result"
        }
      ],
      "source": [
        "import tensorflow as tf\n",
        "tf.__version__"
      ]
    },
    {
      "cell_type": "code",
      "execution_count": null,
      "metadata": {
        "id": "R_q4_edgRUzD"
      },
      "outputs": [],
      "source": [
        "import os\n",
        "import sys\n",
        "import pandas as pd\n",
        "import numpy as np\n",
        "import datetime\n",
        "from matplotlib import pyplot as plt\n",
        "import seaborn as sns"
      ]
    },
    {
      "cell_type": "code",
      "execution_count": null,
      "metadata": {
        "id": "pXkVrzk_SUTK"
      },
      "outputs": [],
      "source": [
        "DATA_PATH = '/content/valve1/'"
      ]
    },
    {
      "cell_type": "code",
      "execution_count": null,
      "metadata": {
        "id": "7qXSDmL0R4Ml"
      },
      "outputs": [],
      "source": [
        "fi = os.listdir(DATA_PATH)"
      ]
    },
    {
      "cell_type": "code",
      "execution_count": null,
      "metadata": {
        "id": "-8e78Y0QSCEX"
      },
      "outputs": [],
      "source": [
        "valve1_data = [pd.read_csv(os.path.join(DATA_PATH, file), sep=';', parse_dates=True) for file in fi]"
      ]
    },
    {
      "cell_type": "code",
      "execution_count": null,
      "metadata": {
        "id": "OtTk4dicSPze"
      },
      "outputs": [],
      "source": [
        "df = valve1_data[0]\n",
        "df.datetime = 0\n",
        "for i in (1, len(valve1_data)-1):\n",
        "    valve1_data[i].datetime = i\n",
        "    df = pd.concat([df, valve1_data[i]])"
      ]
    },
    {
      "cell_type": "code",
      "execution_count": null,
      "metadata": {
        "id": "_IBR4nKLSh40"
      },
      "outputs": [],
      "source": [
        "df.to_csv('check.csv', index=False)"
      ]
    },
    {
      "cell_type": "code",
      "execution_count": null,
      "metadata": {
        "id": "7eG1mKsYSlKn"
      },
      "outputs": [],
      "source": [
        "from __future__ import absolute_import\n",
        "from __future__ import division\n",
        "from __future__ import print_function\n",
        "\n",
        "import numpy as np\n",
        "import warnings\n",
        "warnings.filterwarnings(\"ignore\")\n",
        "\n",
        "# 1. TimeGAN model\n",
        "from timegan import timegan\n",
        "# 2. Data loading\n",
        "from data_loading import real_data_loading, sine_data_generation\n",
        "# 3. Metrics\n",
        "from metrics.discriminative_metrics import discriminative_score_metrics\n",
        "from metrics.predictive_metrics import predictive_score_metrics\n",
        "from metrics.visualization_metrics import visualization"
      ]
    },
    {
      "cell_type": "markdown",
      "metadata": {
        "id": "2DSsI3hFTSB2"
      },
      "source": [
        "# Data Loading"
      ]
    },
    {
      "cell_type": "code",
      "source": [
        "check = np.array([[1,2,3], [4,5,6]])\n",
        "check * 3"
      ],
      "metadata": {
        "colab": {
          "base_uri": "https://localhost:8080/"
        },
        "id": "I1lwOZqh7QMj",
        "outputId": "d2acb46b-a524-4018-b724-f5f47d4c69a2"
      },
      "execution_count": 81,
      "outputs": [
        {
          "output_type": "execute_result",
          "data": {
            "text/plain": [
              "array([[ 3,  6,  9],\n",
              "       [12, 15, 18]])"
            ]
          },
          "metadata": {},
          "execution_count": 81
        }
      ]
    },
    {
      "cell_type": "code",
      "execution_count": 82,
      "metadata": {
        "id": "zccL-UejTRtM"
      },
      "outputs": [],
      "source": [
        "\"\"\"Time-series Generative Adversarial Networks (TimeGAN) Codebase.\n",
        "\n",
        "Reference: Jinsung Yoon, Daniel Jarrett, Mihaela van der Schaar, \n",
        "\"Time-series Generative Adversarial Networks,\" \n",
        "Neural Information Processing Systems (NeurIPS), 2019.\n",
        "\n",
        "Paper link: https://papers.nips.cc/paper/8789-time-series-generative-adversarial-networks\n",
        "\n",
        "Last updated Date: April 24th 2020\n",
        "Code author: Jinsung Yoon (jsyoon0823@gmail.com)\n",
        "\n",
        "-----------------------------\n",
        "\n",
        "data_loading.py\n",
        "\n",
        "(0) MinMaxScaler: Min Max normalizer\n",
        "(1) sine_data_generation: Generate sine dataset\n",
        "(2) real_data_loading: Load and preprocess real data\n",
        "  - stock_data: https://finance.yahoo.com/quote/GOOG/history?p=GOOG\n",
        "  - energy_data: http://archive.ics.uci.edu/ml/datasets/Appliances+energy+prediction\n",
        "\"\"\"\n",
        "\n",
        "## Necessary Packages\n",
        "import numpy as np\n",
        "\n",
        "\n",
        "\n",
        "class MinMaxScalerClass():\n",
        "  def __init__(self, eps = 1e-7):\n",
        "    self.eps = eps\n",
        "\n",
        "  def fit_transform(self, data):\n",
        "    self.min = np.min(data,0)\n",
        "    self.max = np.max(data,0)\n",
        "    self.data = data\n",
        "    numerator = self.data - self.min\n",
        "    denominator = self.max - self.min\n",
        "    norm_data = numerator / (denominator + self.eps)\n",
        "    return norm_data\n",
        "\n",
        "  def inverse_transform(self, data):\n",
        "    return data * (self.max - self.min + self.eps) + self.min\n",
        "\n",
        "def MinMaxScaler(data):\n",
        "  \"\"\"Min Max normalizer.\n",
        "  \n",
        "  Args:\n",
        "    - data: original data\n",
        "  \n",
        "  Returns:\n",
        "    - norm_data: normalized data\n",
        "  \"\"\"\n",
        "  numerator = data - np.min(data, 0)\n",
        "  denominator = np.max(data, 0) - np.min(data, 0)\n",
        "  norm_data = numerator / (denominator + 1e-7)\n",
        "  return norm_data\n",
        "\n",
        "\n",
        "def sine_data_generation (no, seq_len, dim):\n",
        "  \"\"\"Sine data generation.\n",
        "  \n",
        "  Args:\n",
        "    - no: the number of samples\n",
        "    - seq_len: sequence length of the time-series\n",
        "    - dim: feature dimensions\n",
        "    \n",
        "  Returns:\n",
        "    - data: generated data\n",
        "  \"\"\"  \n",
        "  # Initialize the output\n",
        "  data = list()\n",
        "\n",
        "  # Generate sine data\n",
        "  for i in range(no):      \n",
        "    # Initialize each time-series\n",
        "    temp = list()\n",
        "    # For each feature\n",
        "    for k in range(dim):\n",
        "      # Randomly drawn frequency and phase\n",
        "      freq = np.random.uniform(0, 0.1)            \n",
        "      phase = np.random.uniform(0, 0.1)\n",
        "          \n",
        "      # Generate sine signal based on the drawn frequency and phase\n",
        "      temp_data = [np.sin(freq * j + phase) for j in range(seq_len)] \n",
        "      temp.append(temp_data)\n",
        "        \n",
        "    # Align row/column\n",
        "    temp = np.transpose(np.asarray(temp))        \n",
        "    # Normalize to [0,1]\n",
        "    temp = (temp + 1)*0.5\n",
        "    # Stack the generated data\n",
        "    data.append(temp)\n",
        "                \n",
        "  return data\n",
        "    \n",
        "\n",
        "def real_data_loading (data_name, seq_len):\n",
        "  \"\"\"Load and preprocess real-world datasets.\n",
        "  \n",
        "  Args:\n",
        "    - data_name: stock or energy\n",
        "    - seq_len: sequence length\n",
        "    \n",
        "  Returns:\n",
        "    - data: preprocessed data.\n",
        "  \"\"\"  \n",
        "  ori_data = np.loadtxt(data_name, delimiter=\",\", skiprows=1)\n",
        "        \n",
        "  # Flip the data to make chronological data\n",
        "  ori_data = ori_data[::-1]\n",
        "  # Normalize the data\n",
        "  ori_data = MinMaxScaler(ori_data)\n",
        "    \n",
        "  # Preprocess the dataset\n",
        "  temp_data = []    \n",
        "  # Cut data by sequence length\n",
        "  for i in range(0, len(ori_data) - seq_len):\n",
        "    _x = ori_data[i:i + seq_len]\n",
        "    temp_data.append(_x)\n",
        "        \n",
        "  # Mix the datasets (to make it similar to i.i.d)\n",
        "  idx = np.random.permutation(len(temp_data))    \n",
        "  data = []\n",
        "  for i in range(len(temp_data)):\n",
        "    data.append(temp_data[idx[i]])\n",
        "    \n",
        "  return data"
      ]
    },
    {
      "cell_type": "code",
      "execution_count": null,
      "metadata": {
        "colab": {
          "base_uri": "https://localhost:8080/"
        },
        "id": "6JeXXwlTSnPh",
        "outputId": "201e1efc-d5ea-4f62-a94f-2cd05e6af54f"
      },
      "outputs": [
        {
          "name": "stdout",
          "output_type": "stream",
          "text": [
            "check.csv dataset is ready.\n"
          ]
        }
      ],
      "source": [
        "data_name = 'check.csv'\n",
        "seq_len = 24\n",
        "\n",
        "ori_data = real_data_loading(data_name, seq_len)\n",
        "print(data_name + ' dataset is ready.')"
      ]
    },
    {
      "cell_type": "code",
      "execution_count": null,
      "metadata": {
        "id": "tga9Zo7YTLCd"
      },
      "outputs": [],
      "source": [
        "parameters = dict()\n",
        "\n",
        "parameters['module'] = 'gru' \n",
        "parameters['hidden_dim'] = 24\n",
        "parameters['num_layer'] = 3\n",
        "parameters['iterations'] = 10000\n",
        "parameters['batch_size'] = 128"
      ]
    },
    {
      "cell_type": "code",
      "execution_count": null,
      "metadata": {
        "colab": {
          "background_save": true,
          "base_uri": "https://localhost:8080/"
        },
        "id": "vI2HafvCTjkI",
        "outputId": "28786497-0b89-4634-9d0b-05c8b1858f4d"
      },
      "outputs": [
        {
          "name": "stdout",
          "output_type": "stream",
          "text": [
            "WARNING:tensorflow:From /content/timegan.py:38: The name tf.reset_default_graph is deprecated. Please use tf.compat.v1.reset_default_graph instead.\n",
            "\n",
            "WARNING:tensorflow:From /content/timegan.py:80: The name tf.placeholder is deprecated. Please use tf.compat.v1.placeholder instead.\n",
            "\n",
            "WARNING:tensorflow:From /content/timegan.py:94: The name tf.variable_scope is deprecated. Please use tf.compat.v1.variable_scope instead.\n",
            "\n",
            "WARNING:tensorflow:From /content/timegan.py:94: The name tf.AUTO_REUSE is deprecated. Please use tf.compat.v1.AUTO_REUSE instead.\n",
            "\n",
            "WARNING:tensorflow:From /content/utils.py:95: GRUCell.__init__ (from tensorflow.python.ops.rnn_cell_impl) is deprecated and will be removed in a future version.\n",
            "Instructions for updating:\n",
            "This class is equivalent as tf.keras.layers.GRUCell, and will be replaced by that in Tensorflow 2.0.\n",
            "WARNING:tensorflow:From /content/timegan.py:95: MultiRNNCell.__init__ (from tensorflow.python.ops.rnn_cell_impl) is deprecated and will be removed in a future version.\n",
            "Instructions for updating:\n",
            "This class is equivalent as tf.keras.layers.StackedRNNCells, and will be replaced by that in Tensorflow 2.0.\n",
            "WARNING:tensorflow:From /content/timegan.py:96: dynamic_rnn (from tensorflow.python.ops.rnn) is deprecated and will be removed in a future version.\n",
            "Instructions for updating:\n",
            "Please use `keras.layers.RNN(cell)`, which is equivalent to this API\n",
            "WARNING:tensorflow:From /usr/local/lib/python3.7/dist-packages/tensorflow_core/python/ops/rnn_cell_impl.py:559: Layer.add_variable (from tensorflow.python.keras.engine.base_layer) is deprecated and will be removed in a future version.\n",
            "Instructions for updating:\n",
            "Please use `layer.add_weight` method instead.\n",
            "WARNING:tensorflow:From /usr/local/lib/python3.7/dist-packages/tensorflow_core/python/ops/rnn_cell_impl.py:565: calling Constant.__init__ (from tensorflow.python.ops.init_ops) with dtype is deprecated and will be removed in a future version.\n",
            "Instructions for updating:\n",
            "Call initializer instance with the dtype argument instead of passing it to the constructor\n",
            "WARNING:tensorflow:From /usr/local/lib/python3.7/dist-packages/tensorflow_core/python/ops/rnn_cell_impl.py:575: calling Zeros.__init__ (from tensorflow.python.ops.init_ops) with dtype is deprecated and will be removed in a future version.\n",
            "Instructions for updating:\n",
            "Call initializer instance with the dtype argument instead of passing it to the constructor\n",
            "WARNING:tensorflow:From /usr/local/lib/python3.7/dist-packages/tensorflow_core/python/ops/rnn.py:244: where (from tensorflow.python.ops.array_ops) is deprecated and will be removed in a future version.\n",
            "Instructions for updating:\n",
            "Use tf.where in 2.0, which has the same broadcast rule as np.where\n",
            "WARNING:tensorflow:\n",
            "The TensorFlow contrib module will not be included in TensorFlow 2.0.\n",
            "For more information, please see:\n",
            "  * https://github.com/tensorflow/community/blob/master/rfcs/20180907-contrib-sunset.md\n",
            "  * https://github.com/tensorflow/addons\n",
            "  * https://github.com/tensorflow/io (for I/O related ops)\n",
            "If you depend on functionality not listed there, please file an issue.\n",
            "\n",
            "WARNING:tensorflow:From /usr/local/lib/python3.7/dist-packages/tensorflow_core/contrib/layers/python/layers/layers.py:1866: Layer.apply (from tensorflow.python.keras.engine.base_layer) is deprecated and will be removed in a future version.\n",
            "Instructions for updating:\n",
            "Please use `layer.__call__` method instead.\n",
            "WARNING:tensorflow:From /content/timegan.py:182: The name tf.trainable_variables is deprecated. Please use tf.compat.v1.trainable_variables instead.\n",
            "\n",
            "WARNING:tensorflow:From /content/timegan.py:189: The name tf.losses.sigmoid_cross_entropy is deprecated. Please use tf.compat.v1.losses.sigmoid_cross_entropy instead.\n",
            "\n",
            "WARNING:tensorflow:From /content/timegan.py:200: The name tf.losses.mean_squared_error is deprecated. Please use tf.compat.v1.losses.mean_squared_error instead.\n",
            "\n",
            "WARNING:tensorflow:From /content/timegan.py:217: The name tf.train.AdamOptimizer is deprecated. Please use tf.compat.v1.train.AdamOptimizer instead.\n",
            "\n",
            "WARNING:tensorflow:From /content/timegan.py:224: The name tf.Session is deprecated. Please use tf.compat.v1.Session instead.\n",
            "\n",
            "WARNING:tensorflow:From /content/timegan.py:225: The name tf.global_variables_initializer is deprecated. Please use tf.compat.v1.global_variables_initializer instead.\n",
            "\n",
            "Start Embedding Network Training\n",
            "step: 0/10000, e_loss: 0.3719\n",
            "step: 1000/10000, e_loss: 0.0606\n",
            "step: 2000/10000, e_loss: 0.0529\n",
            "step: 3000/10000, e_loss: 0.0486\n",
            "step: 4000/10000, e_loss: 0.0419\n",
            "step: 5000/10000, e_loss: 0.0405\n",
            "step: 6000/10000, e_loss: 0.037\n",
            "step: 7000/10000, e_loss: 0.035\n",
            "step: 8000/10000, e_loss: 0.032\n",
            "step: 9000/10000, e_loss: 0.0284\n",
            "Finish Embedding Network Training\n",
            "Start Training with Supervised Loss Only\n",
            "step: 0/10000, s_loss: 0.2773\n",
            "step: 1000/10000, s_loss: 0.0591\n",
            "step: 2000/10000, s_loss: 0.0581\n",
            "step: 3000/10000, s_loss: 0.0545\n",
            "step: 4000/10000, s_loss: 0.0544\n",
            "step: 5000/10000, s_loss: 0.054\n",
            "step: 6000/10000, s_loss: 0.0519\n",
            "step: 7000/10000, s_loss: 0.0524\n",
            "step: 8000/10000, s_loss: 0.0536\n",
            "step: 9000/10000, s_loss: 0.0501\n",
            "Finish Training with Supervised Loss Only\n",
            "Start Joint Training\n",
            "step: 0/10000, d_loss: 2.1838, g_loss_u: 0.6663, g_loss_s: 0.056, g_loss_v: 0.3624, e_loss_t0: 0.0931\n",
            "step: 1000/10000, d_loss: 0.9232, g_loss_u: 2.5909, g_loss_s: 0.0612, g_loss_v: 0.0761, e_loss_t0: 0.0259\n",
            "step: 2000/10000, d_loss: 1.1977, g_loss_u: 1.5487, g_loss_s: 0.0589, g_loss_v: 0.0374, e_loss_t0: 0.025\n",
            "step: 3000/10000, d_loss: 0.6671, g_loss_u: 2.4691, g_loss_s: 0.0644, g_loss_v: 0.0416, e_loss_t0: 0.028\n",
            "step: 4000/10000, d_loss: 1.1341, g_loss_u: 2.1012, g_loss_s: 0.0592, g_loss_v: 0.0438, e_loss_t0: 0.0253\n",
            "step: 5000/10000, d_loss: 1.2788, g_loss_u: 1.5557, g_loss_s: 0.0576, g_loss_v: 0.0501, e_loss_t0: 0.0252\n",
            "step: 6000/10000, d_loss: 0.9916, g_loss_u: 1.3398, g_loss_s: 0.0578, g_loss_v: 0.0523, e_loss_t0: 0.0238\n",
            "step: 7000/10000, d_loss: 0.8022, g_loss_u: 1.8109, g_loss_s: 0.0565, g_loss_v: 0.0391, e_loss_t0: 0.0263\n",
            "step: 8000/10000, d_loss: 1.101, g_loss_u: 1.6728, g_loss_s: 0.0576, g_loss_v: 0.0314, e_loss_t0: 0.022\n",
            "step: 9000/10000, d_loss: 1.2495, g_loss_u: 1.5667, g_loss_s: 0.054, g_loss_v: 0.0502, e_loss_t0: 0.0212\n",
            "Finish Joint Training\n",
            "Finish Synthetic Data Generation\n"
          ]
        }
      ],
      "source": [
        "# Run TimeGAN\n",
        "generated_data = timegan(ori_data, parameters)   \n",
        "print('Finish Synthetic Data Generation')"
      ]
    },
    {
      "cell_type": "code",
      "source": [
        "from sklearn.preprocessing import MinMaxScaler as mms"
      ],
      "metadata": {
        "id": "uk0KMT9NxTwT"
      },
      "execution_count": 76,
      "outputs": []
    },
    {
      "cell_type": "code",
      "source": [
        "generated_data.shape"
      ],
      "metadata": {
        "colab": {
          "base_uri": "https://localhost:8080/"
        },
        "id": "HGaWAwbL9Mkj",
        "outputId": "9ea5c8e1-5d8d-46fa-d182-cde600713463"
      },
      "execution_count": 91,
      "outputs": [
        {
          "output_type": "execute_result",
          "data": {
            "text/plain": [
              "(3419, 24, 11)"
            ]
          },
          "metadata": {},
          "execution_count": 91
        }
      ]
    },
    {
      "cell_type": "code",
      "source": [
        "check = scaler.inverse_transform(generated_data)"
      ],
      "metadata": {
        "colab": {
          "base_uri": "https://localhost:8080/",
          "height": 328
        },
        "id": "lL2e-GYv8Hy1",
        "outputId": "2362d3d6-ac4f-4820-b464-39d1df111f54"
      },
      "execution_count": 89,
      "outputs": [
        {
          "output_type": "error",
          "ename": "ValueError",
          "evalue": "ignored",
          "traceback": [
            "\u001b[0;31m---------------------------------------------------------------------------\u001b[0m",
            "\u001b[0;31mValueError\u001b[0m                                Traceback (most recent call last)",
            "\u001b[0;32m<ipython-input-89-125e250845f5>\u001b[0m in \u001b[0;36m<module>\u001b[0;34m()\u001b[0m\n\u001b[0;32m----> 1\u001b[0;31m \u001b[0mcheck\u001b[0m \u001b[0;34m=\u001b[0m \u001b[0mscaler\u001b[0m\u001b[0;34m.\u001b[0m\u001b[0minverse_transform\u001b[0m\u001b[0;34m(\u001b[0m\u001b[0mgenerated_data\u001b[0m\u001b[0;34m)\u001b[0m\u001b[0;34m\u001b[0m\u001b[0;34m\u001b[0m\u001b[0m\n\u001b[0m",
            "\u001b[0;32m/usr/local/lib/python3.7/dist-packages/sklearn/preprocessing/_data.py\u001b[0m in \u001b[0;36minverse_transform\u001b[0;34m(self, X)\u001b[0m\n\u001b[1;32m    524\u001b[0m \u001b[0;34m\u001b[0m\u001b[0m\n\u001b[1;32m    525\u001b[0m         X = check_array(\n\u001b[0;32m--> 526\u001b[0;31m             \u001b[0mX\u001b[0m\u001b[0;34m,\u001b[0m \u001b[0mcopy\u001b[0m\u001b[0;34m=\u001b[0m\u001b[0mself\u001b[0m\u001b[0;34m.\u001b[0m\u001b[0mcopy\u001b[0m\u001b[0;34m,\u001b[0m \u001b[0mdtype\u001b[0m\u001b[0;34m=\u001b[0m\u001b[0mFLOAT_DTYPES\u001b[0m\u001b[0;34m,\u001b[0m \u001b[0mforce_all_finite\u001b[0m\u001b[0;34m=\u001b[0m\u001b[0;34m\"allow-nan\"\u001b[0m\u001b[0;34m\u001b[0m\u001b[0;34m\u001b[0m\u001b[0m\n\u001b[0m\u001b[1;32m    527\u001b[0m         )\n\u001b[1;32m    528\u001b[0m \u001b[0;34m\u001b[0m\u001b[0m\n",
            "\u001b[0;32m/usr/local/lib/python3.7/dist-packages/sklearn/utils/validation.py\u001b[0m in \u001b[0;36mcheck_array\u001b[0;34m(array, accept_sparse, accept_large_sparse, dtype, order, copy, force_all_finite, ensure_2d, allow_nd, ensure_min_samples, ensure_min_features, estimator)\u001b[0m\n\u001b[1;32m    794\u001b[0m             raise ValueError(\n\u001b[1;32m    795\u001b[0m                 \u001b[0;34m\"Found array with dim %d. %s expected <= 2.\"\u001b[0m\u001b[0;34m\u001b[0m\u001b[0;34m\u001b[0m\u001b[0m\n\u001b[0;32m--> 796\u001b[0;31m                 \u001b[0;34m%\u001b[0m \u001b[0;34m(\u001b[0m\u001b[0marray\u001b[0m\u001b[0;34m.\u001b[0m\u001b[0mndim\u001b[0m\u001b[0;34m,\u001b[0m \u001b[0mestimator_name\u001b[0m\u001b[0;34m)\u001b[0m\u001b[0;34m\u001b[0m\u001b[0;34m\u001b[0m\u001b[0m\n\u001b[0m\u001b[1;32m    797\u001b[0m             )\n\u001b[1;32m    798\u001b[0m \u001b[0;34m\u001b[0m\u001b[0m\n",
            "\u001b[0;31mValueError\u001b[0m: Found array with dim 3. Estimator expected <= 2."
          ]
        }
      ]
    },
    {
      "cell_type": "code",
      "source": [
        "scaler = MinMaxScalerClass()\n",
        "scaler.fit_transform()"
      ],
      "metadata": {
        "colab": {
          "base_uri": "https://localhost:8080/"
        },
        "id": "NZA877Hpxnqd",
        "outputId": "3ebba9da-73a3-4746-9c34-cacfa82b53e4"
      },
      "execution_count": 84,
      "outputs": [
        {
          "output_type": "execute_result",
          "data": {
            "text/plain": [
              "<__main__.MinMaxScalerClass at 0x7f2df0355110>"
            ]
          },
          "metadata": {},
          "execution_count": 84
        }
      ]
    },
    {
      "cell_type": "code",
      "source": [
        "generated_data"
      ],
      "metadata": {
        "colab": {
          "base_uri": "https://localhost:8080/"
        },
        "id": "viTwMpmA_pia",
        "outputId": "5f61c55e-7ef1-4196-a86d-94d0c0a0b1f0"
      },
      "execution_count": 95,
      "outputs": [
        {
          "output_type": "execute_result",
          "data": {
            "text/plain": [
              "array([[[5.25649484e-02, 8.12819832e-01, 2.82980327e-01, ...,\n",
              "         1.29299488e-01, 9.99999781e-01, 3.30805745e-06],\n",
              "        [2.84831224e-02, 9.05662388e-01, 4.28725952e-01, ...,\n",
              "         4.62441075e-01, 9.99999304e-01, 1.60932525e-06],\n",
              "        [4.29214832e-02, 8.13736584e-01, 4.90981404e-01, ...,\n",
              "         5.39514945e-01, 9.99999304e-01, 6.25461277e-04],\n",
              "        ...,\n",
              "        [7.33021493e-02, 7.67672804e-01, 4.34050471e-01, ...,\n",
              "         7.85043458e-01, 9.99998589e-01, 4.17232472e-07],\n",
              "        [8.92437094e-02, 7.39800177e-01, 4.22549213e-01, ...,\n",
              "         5.53759442e-01, 9.99999542e-01, 0.00000000e+00],\n",
              "        [7.26951654e-02, 7.99011575e-01, 4.33337726e-01, ...,\n",
              "         6.66828258e-01, 9.99999542e-01, 6.55651027e-07]],\n",
              "\n",
              "       [[7.40638072e-02, 7.53372049e-01, 4.90373443e-01, ...,\n",
              "         7.58454602e-01, 0.00000000e+00, 0.00000000e+00],\n",
              "        [7.15773101e-02, 5.08160061e-01, 4.41090366e-01, ...,\n",
              "         7.44336884e-01, 2.08616236e-07, 0.00000000e+00],\n",
              "        [6.55727382e-02, 5.42019080e-01, 4.29049333e-01, ...,\n",
              "         7.53772478e-01, 2.98023194e-07, 0.00000000e+00],\n",
              "        ...,\n",
              "        [8.04014499e-02, 6.90881658e-01, 4.79567257e-01, ...,\n",
              "         7.39359003e-01, 3.57627833e-07, 0.00000000e+00],\n",
              "        [7.43580158e-02, 6.15560856e-01, 4.58654161e-01, ...,\n",
              "         7.43135016e-01, 3.27825513e-07, 0.00000000e+00],\n",
              "        [8.51688677e-02, 8.02469197e-01, 2.71048727e-01, ...,\n",
              "         8.20761660e-01, 1.49011597e-07, 0.00000000e+00]],\n",
              "\n",
              "       [[5.86870309e-03, 3.85222765e-01, 2.73335109e-01, ...,\n",
              "         9.95273327e-01, 0.00000000e+00, 0.00000000e+00],\n",
              "        [1.02147459e-03, 4.60297317e-01, 3.35529527e-01, ...,\n",
              "         9.95390867e-01, 0.00000000e+00, 0.00000000e+00],\n",
              "        [9.27507871e-04, 3.53223325e-01, 3.64637823e-01, ...,\n",
              "         7.36797195e-01, 0.00000000e+00, 9.53674221e-07],\n",
              "        ...,\n",
              "        [7.02053304e-04, 2.90733799e-01, 2.47775877e-01, ...,\n",
              "         7.48191219e-01, 0.00000000e+00, 2.90870637e-05],\n",
              "        [7.74592156e-04, 2.66621815e-01, 3.00707109e-01, ...,\n",
              "         7.49751609e-01, 0.00000000e+00, 5.33461517e-06],\n",
              "        [7.34746451e-04, 2.87740900e-01, 2.26081193e-01, ...,\n",
              "         7.48884838e-01, 0.00000000e+00, 6.61611491e-06]],\n",
              "\n",
              "       ...,\n",
              "\n",
              "       [[4.20981941e-02, 6.72378841e-01, 2.35635097e-01, ...,\n",
              "         1.66195925e-02, 9.99999900e-01, 6.85453346e-07],\n",
              "        [4.35918269e-02, 7.45423708e-01, 4.90435878e-01, ...,\n",
              "         1.59325596e-02, 9.99999781e-01, 1.49011597e-07],\n",
              "        [5.73273893e-02, 7.41401051e-01, 5.12333037e-01, ...,\n",
              "         1.61152567e-01, 9.99999781e-01, 1.63912757e-06],\n",
              "        ...,\n",
              "        [7.99307520e-02, 8.25197798e-01, 5.85135398e-01, ...,\n",
              "         2.68967681e-01, 9.99999781e-01, 1.20788801e-04],\n",
              "        [8.00551767e-02, 6.85099703e-01, 5.44611494e-01, ...,\n",
              "         2.35473836e-01, 9.99999781e-01, 3.48985160e-05],\n",
              "        [8.05837209e-02, 7.95298317e-01, 5.85316892e-01, ...,\n",
              "         1.55549999e-01, 9.99999840e-01, 3.78489456e-06]],\n",
              "\n",
              "       [[5.79628344e-03, 3.86655916e-01, 2.75134585e-01, ...,\n",
              "         9.95129501e-01, 0.00000000e+00, 0.00000000e+00],\n",
              "        [1.03017687e-03, 4.55356865e-01, 3.43261067e-01, ...,\n",
              "         9.95273744e-01, 0.00000000e+00, 0.00000000e+00],\n",
              "        [9.48637718e-04, 3.42584600e-01, 3.73584690e-01, ...,\n",
              "         7.33436089e-01, 0.00000000e+00, 8.64267263e-07],\n",
              "        ...,\n",
              "        [7.08132978e-04, 2.67046128e-01, 3.86394734e-01, ...,\n",
              "         7.42163938e-01, 0.00000000e+00, 3.71634923e-05],\n",
              "        [6.76542516e-04, 2.94299719e-01, 3.03566614e-01, ...,\n",
              "         7.50980895e-01, 0.00000000e+00, 3.01003426e-05],\n",
              "        [7.25239510e-04, 2.26536323e-01, 4.39920934e-01, ...,\n",
              "         9.94069730e-01, 0.00000000e+00, 1.19209278e-06]],\n",
              "\n",
              "       [[7.50483269e-02, 7.32926119e-01, 5.67147549e-01, ...,\n",
              "         7.56337028e-01, 1.49011597e-07, 0.00000000e+00],\n",
              "        [6.94033499e-02, 5.10700633e-01, 3.28581006e-01, ...,\n",
              "         7.51250904e-01, 5.96046388e-08, 0.00000000e+00],\n",
              "        [6.38031061e-02, 5.61551954e-01, 4.98311064e-01, ...,\n",
              "         7.36913663e-01, 1.19209278e-07, 0.00000000e+00],\n",
              "        ...,\n",
              "        [7.41537804e-02, 6.54701465e-01, 4.82518433e-01, ...,\n",
              "         7.32396227e-01, 1.78813916e-07, 0.00000000e+00],\n",
              "        [7.29799862e-02, 7.75233249e-01, 4.30998505e-01, ...,\n",
              "         7.46821146e-01, 8.94069582e-08, 0.00000000e+00],\n",
              "        [7.67350788e-02, 8.09028851e-01, 3.53500150e-01, ...,\n",
              "         7.44979303e-01, 8.94069582e-08, 0.00000000e+00]]])"
            ]
          },
          "metadata": {},
          "execution_count": 95
        }
      ]
    },
    {
      "cell_type": "code",
      "source": [
        ""
      ],
      "metadata": {
        "colab": {
          "base_uri": "https://localhost:8080/"
        },
        "id": "FuXJu6QjzhLY",
        "outputId": "eaf5ccd7-0767-4771-8849-0a8d6b431f21"
      },
      "execution_count": 100,
      "outputs": [
        {
          "output_type": "execute_result",
          "data": {
            "text/plain": [
              "array([[7.88474227e-01, 2.82826677e-02, 4.05706007e-02, ...,\n",
              "        2.95170169e+01, 9.99999781e-01, 3.30805745e-06],\n",
              "       [4.27246836e-01, 2.85944237e-02, 4.20449489e-02, ...,\n",
              "        3.08491169e+01, 9.99999304e-01, 1.60932525e-06],\n",
              "       [6.43822248e-01, 2.82857461e-02, 4.26747188e-02, ...,\n",
              "        3.11573045e+01, 9.99999304e-01, 6.25461277e-04],\n",
              "       ...,\n",
              "       [1.11230671e+00, 2.77517220e-02, 4.25891082e-02, ...,\n",
              "        3.19285596e+01, 1.78813916e-07, 0.00000000e+00],\n",
              "       [1.09469979e+00, 2.81564557e-02, 4.20679378e-02, ...,\n",
              "        3.19862390e+01, 8.94069582e-08, 0.00000000e+00],\n",
              "       [1.15102618e+00, 2.82699380e-02, 4.12839722e-02, ...,\n",
              "        3.19788742e+01, 8.94069582e-08, 0.00000000e+00]])"
            ]
          },
          "metadata": {},
          "execution_count": 100
        }
      ]
    },
    {
      "cell_type": "code",
      "source": [
        "with open('test.txt', 'w') as outfile:\n",
        "    # I'm writing a header here just for the sake of readability\n",
        "    # Any line starting with \"#\" will be ignored by numpy.loadtxt\n",
        "    outfile.write('# Array shape: {0}\\n'.format(generated_data.shape))\n",
        "    \n",
        "    # Iterating through a ndimensional array produces slices along\n",
        "    # the last axis. This is equivalent to data[i,:,:] in this case\n",
        "    for data_slice in generated_data:\n",
        "\n",
        "        # The formatting string indicates that I'm writing out\n",
        "        # the values in left-justified columns 7 characters in width\n",
        "        # with 2 decimal places.  \n",
        "        np.savetxt(outfile, data_slice, fmt='%-7.2f')\n",
        "\n",
        "        # Writing out a break to indicate different slices...\n",
        "        outfile.write('# New slice\\n')"
      ],
      "metadata": {
        "id": "ou_3gkf3AiTV"
      },
      "execution_count": 106,
      "outputs": []
    },
    {
      "cell_type": "code",
      "source": [
        "pd.DataFrame(scaler.inverse_transform(generated_data.reshape(-1, 11)))"
      ],
      "metadata": {
        "colab": {
          "base_uri": "https://localhost:8080/",
          "height": 424
        },
        "id": "vi-NkphWAVZB",
        "outputId": "630da347-722a-4d18-fb16-867071db330d"
      },
      "execution_count": 101,
      "outputs": [
        {
          "output_type": "execute_result",
          "data": {
            "text/plain": [
              "             0         1         2         3         4          5          6   \\\n",
              "0      0.788474  0.028283  0.040571  0.388229 -0.448193  69.596116  24.923687   \n",
              "1      0.427247  0.028594  0.042045  0.388229 -0.278181  68.413305  24.798171   \n",
              "2      0.643822  0.028286  0.042675  0.388306 -0.128497  68.521710  24.797265   \n",
              "3      0.494669  0.028524  0.042098  0.445744  0.059493  67.999582  24.812459   \n",
              "4      0.570174  0.028510  0.042942  0.426734 -0.312280  68.186204  24.818323   \n",
              "...         ...       ...       ...       ...       ...        ...        ...   \n",
              "82051  1.238291  0.028326  0.040681  0.388264  0.057510  67.933229  24.753300   \n",
              "82052  1.115702  0.028223  0.041933  0.388257  0.066949  67.911021  24.749942   \n",
              "82053  1.112307  0.027752  0.042589  0.388229  0.250360  67.920810  24.749026   \n",
              "82054  1.094700  0.028156  0.042068  0.388236  0.215354  67.963256  24.749827   \n",
              "82055  1.151026  0.028270  0.041284  0.388243  0.116538  67.938151  24.751014   \n",
              "\n",
              "               7          8             9         10  \n",
              "0      208.370857  29.517017  9.999998e-01  0.000003  \n",
              "1      214.200676  30.849117  9.999993e-01  0.000002  \n",
              "2      223.848262  31.157304  9.999993e-01  0.000625  \n",
              "3      236.155364  32.974523  9.999574e-01  0.000017  \n",
              "4      220.583608  32.524543  9.999919e-01  0.000018  \n",
              "...           ...        ...           ...       ...  \n",
              "82051  234.186956  31.998493  1.490116e-07  0.000000  \n",
              "82052  236.385071  31.984333  8.940696e-08  0.000000  \n",
              "82053  232.456983  31.928560  1.788139e-07  0.000000  \n",
              "82054  233.305111  31.986239  8.940696e-08  0.000000  \n",
              "82055  234.787615  31.978874  8.940696e-08  0.000000  \n",
              "\n",
              "[82056 rows x 11 columns]"
            ],
            "text/html": [
              "\n",
              "  <div id=\"df-51495ec5-cea0-408c-9768-3f847f9185b3\">\n",
              "    <div class=\"colab-df-container\">\n",
              "      <div>\n",
              "<style scoped>\n",
              "    .dataframe tbody tr th:only-of-type {\n",
              "        vertical-align: middle;\n",
              "    }\n",
              "\n",
              "    .dataframe tbody tr th {\n",
              "        vertical-align: top;\n",
              "    }\n",
              "\n",
              "    .dataframe thead th {\n",
              "        text-align: right;\n",
              "    }\n",
              "</style>\n",
              "<table border=\"1\" class=\"dataframe\">\n",
              "  <thead>\n",
              "    <tr style=\"text-align: right;\">\n",
              "      <th></th>\n",
              "      <th>0</th>\n",
              "      <th>1</th>\n",
              "      <th>2</th>\n",
              "      <th>3</th>\n",
              "      <th>4</th>\n",
              "      <th>5</th>\n",
              "      <th>6</th>\n",
              "      <th>7</th>\n",
              "      <th>8</th>\n",
              "      <th>9</th>\n",
              "      <th>10</th>\n",
              "    </tr>\n",
              "  </thead>\n",
              "  <tbody>\n",
              "    <tr>\n",
              "      <th>0</th>\n",
              "      <td>0.788474</td>\n",
              "      <td>0.028283</td>\n",
              "      <td>0.040571</td>\n",
              "      <td>0.388229</td>\n",
              "      <td>-0.448193</td>\n",
              "      <td>69.596116</td>\n",
              "      <td>24.923687</td>\n",
              "      <td>208.370857</td>\n",
              "      <td>29.517017</td>\n",
              "      <td>9.999998e-01</td>\n",
              "      <td>0.000003</td>\n",
              "    </tr>\n",
              "    <tr>\n",
              "      <th>1</th>\n",
              "      <td>0.427247</td>\n",
              "      <td>0.028594</td>\n",
              "      <td>0.042045</td>\n",
              "      <td>0.388229</td>\n",
              "      <td>-0.278181</td>\n",
              "      <td>68.413305</td>\n",
              "      <td>24.798171</td>\n",
              "      <td>214.200676</td>\n",
              "      <td>30.849117</td>\n",
              "      <td>9.999993e-01</td>\n",
              "      <td>0.000002</td>\n",
              "    </tr>\n",
              "    <tr>\n",
              "      <th>2</th>\n",
              "      <td>0.643822</td>\n",
              "      <td>0.028286</td>\n",
              "      <td>0.042675</td>\n",
              "      <td>0.388306</td>\n",
              "      <td>-0.128497</td>\n",
              "      <td>68.521710</td>\n",
              "      <td>24.797265</td>\n",
              "      <td>223.848262</td>\n",
              "      <td>31.157304</td>\n",
              "      <td>9.999993e-01</td>\n",
              "      <td>0.000625</td>\n",
              "    </tr>\n",
              "    <tr>\n",
              "      <th>3</th>\n",
              "      <td>0.494669</td>\n",
              "      <td>0.028524</td>\n",
              "      <td>0.042098</td>\n",
              "      <td>0.445744</td>\n",
              "      <td>0.059493</td>\n",
              "      <td>67.999582</td>\n",
              "      <td>24.812459</td>\n",
              "      <td>236.155364</td>\n",
              "      <td>32.974523</td>\n",
              "      <td>9.999574e-01</td>\n",
              "      <td>0.000017</td>\n",
              "    </tr>\n",
              "    <tr>\n",
              "      <th>4</th>\n",
              "      <td>0.570174</td>\n",
              "      <td>0.028510</td>\n",
              "      <td>0.042942</td>\n",
              "      <td>0.426734</td>\n",
              "      <td>-0.312280</td>\n",
              "      <td>68.186204</td>\n",
              "      <td>24.818323</td>\n",
              "      <td>220.583608</td>\n",
              "      <td>32.524543</td>\n",
              "      <td>9.999919e-01</td>\n",
              "      <td>0.000018</td>\n",
              "    </tr>\n",
              "    <tr>\n",
              "      <th>...</th>\n",
              "      <td>...</td>\n",
              "      <td>...</td>\n",
              "      <td>...</td>\n",
              "      <td>...</td>\n",
              "      <td>...</td>\n",
              "      <td>...</td>\n",
              "      <td>...</td>\n",
              "      <td>...</td>\n",
              "      <td>...</td>\n",
              "      <td>...</td>\n",
              "      <td>...</td>\n",
              "    </tr>\n",
              "    <tr>\n",
              "      <th>82051</th>\n",
              "      <td>1.238291</td>\n",
              "      <td>0.028326</td>\n",
              "      <td>0.040681</td>\n",
              "      <td>0.388264</td>\n",
              "      <td>0.057510</td>\n",
              "      <td>67.933229</td>\n",
              "      <td>24.753300</td>\n",
              "      <td>234.186956</td>\n",
              "      <td>31.998493</td>\n",
              "      <td>1.490116e-07</td>\n",
              "      <td>0.000000</td>\n",
              "    </tr>\n",
              "    <tr>\n",
              "      <th>82052</th>\n",
              "      <td>1.115702</td>\n",
              "      <td>0.028223</td>\n",
              "      <td>0.041933</td>\n",
              "      <td>0.388257</td>\n",
              "      <td>0.066949</td>\n",
              "      <td>67.911021</td>\n",
              "      <td>24.749942</td>\n",
              "      <td>236.385071</td>\n",
              "      <td>31.984333</td>\n",
              "      <td>8.940696e-08</td>\n",
              "      <td>0.000000</td>\n",
              "    </tr>\n",
              "    <tr>\n",
              "      <th>82053</th>\n",
              "      <td>1.112307</td>\n",
              "      <td>0.027752</td>\n",
              "      <td>0.042589</td>\n",
              "      <td>0.388229</td>\n",
              "      <td>0.250360</td>\n",
              "      <td>67.920810</td>\n",
              "      <td>24.749026</td>\n",
              "      <td>232.456983</td>\n",
              "      <td>31.928560</td>\n",
              "      <td>1.788139e-07</td>\n",
              "      <td>0.000000</td>\n",
              "    </tr>\n",
              "    <tr>\n",
              "      <th>82054</th>\n",
              "      <td>1.094700</td>\n",
              "      <td>0.028156</td>\n",
              "      <td>0.042068</td>\n",
              "      <td>0.388236</td>\n",
              "      <td>0.215354</td>\n",
              "      <td>67.963256</td>\n",
              "      <td>24.749827</td>\n",
              "      <td>233.305111</td>\n",
              "      <td>31.986239</td>\n",
              "      <td>8.940696e-08</td>\n",
              "      <td>0.000000</td>\n",
              "    </tr>\n",
              "    <tr>\n",
              "      <th>82055</th>\n",
              "      <td>1.151026</td>\n",
              "      <td>0.028270</td>\n",
              "      <td>0.041284</td>\n",
              "      <td>0.388243</td>\n",
              "      <td>0.116538</td>\n",
              "      <td>67.938151</td>\n",
              "      <td>24.751014</td>\n",
              "      <td>234.787615</td>\n",
              "      <td>31.978874</td>\n",
              "      <td>8.940696e-08</td>\n",
              "      <td>0.000000</td>\n",
              "    </tr>\n",
              "  </tbody>\n",
              "</table>\n",
              "<p>82056 rows × 11 columns</p>\n",
              "</div>\n",
              "      <button class=\"colab-df-convert\" onclick=\"convertToInteractive('df-51495ec5-cea0-408c-9768-3f847f9185b3')\"\n",
              "              title=\"Convert this dataframe to an interactive table.\"\n",
              "              style=\"display:none;\">\n",
              "        \n",
              "  <svg xmlns=\"http://www.w3.org/2000/svg\" height=\"24px\"viewBox=\"0 0 24 24\"\n",
              "       width=\"24px\">\n",
              "    <path d=\"M0 0h24v24H0V0z\" fill=\"none\"/>\n",
              "    <path d=\"M18.56 5.44l.94 2.06.94-2.06 2.06-.94-2.06-.94-.94-2.06-.94 2.06-2.06.94zm-11 1L8.5 8.5l.94-2.06 2.06-.94-2.06-.94L8.5 2.5l-.94 2.06-2.06.94zm10 10l.94 2.06.94-2.06 2.06-.94-2.06-.94-.94-2.06-.94 2.06-2.06.94z\"/><path d=\"M17.41 7.96l-1.37-1.37c-.4-.4-.92-.59-1.43-.59-.52 0-1.04.2-1.43.59L10.3 9.45l-7.72 7.72c-.78.78-.78 2.05 0 2.83L4 21.41c.39.39.9.59 1.41.59.51 0 1.02-.2 1.41-.59l7.78-7.78 2.81-2.81c.8-.78.8-2.07 0-2.86zM5.41 20L4 18.59l7.72-7.72 1.47 1.35L5.41 20z\"/>\n",
              "  </svg>\n",
              "      </button>\n",
              "      \n",
              "  <style>\n",
              "    .colab-df-container {\n",
              "      display:flex;\n",
              "      flex-wrap:wrap;\n",
              "      gap: 12px;\n",
              "    }\n",
              "\n",
              "    .colab-df-convert {\n",
              "      background-color: #E8F0FE;\n",
              "      border: none;\n",
              "      border-radius: 50%;\n",
              "      cursor: pointer;\n",
              "      display: none;\n",
              "      fill: #1967D2;\n",
              "      height: 32px;\n",
              "      padding: 0 0 0 0;\n",
              "      width: 32px;\n",
              "    }\n",
              "\n",
              "    .colab-df-convert:hover {\n",
              "      background-color: #E2EBFA;\n",
              "      box-shadow: 0px 1px 2px rgba(60, 64, 67, 0.3), 0px 1px 3px 1px rgba(60, 64, 67, 0.15);\n",
              "      fill: #174EA6;\n",
              "    }\n",
              "\n",
              "    [theme=dark] .colab-df-convert {\n",
              "      background-color: #3B4455;\n",
              "      fill: #D2E3FC;\n",
              "    }\n",
              "\n",
              "    [theme=dark] .colab-df-convert:hover {\n",
              "      background-color: #434B5C;\n",
              "      box-shadow: 0px 1px 3px 1px rgba(0, 0, 0, 0.15);\n",
              "      filter: drop-shadow(0px 1px 2px rgba(0, 0, 0, 0.3));\n",
              "      fill: #FFFFFF;\n",
              "    }\n",
              "  </style>\n",
              "\n",
              "      <script>\n",
              "        const buttonEl =\n",
              "          document.querySelector('#df-51495ec5-cea0-408c-9768-3f847f9185b3 button.colab-df-convert');\n",
              "        buttonEl.style.display =\n",
              "          google.colab.kernel.accessAllowed ? 'block' : 'none';\n",
              "\n",
              "        async function convertToInteractive(key) {\n",
              "          const element = document.querySelector('#df-51495ec5-cea0-408c-9768-3f847f9185b3');\n",
              "          const dataTable =\n",
              "            await google.colab.kernel.invokeFunction('convertToInteractive',\n",
              "                                                     [key], {});\n",
              "          if (!dataTable) return;\n",
              "\n",
              "          const docLinkHtml = 'Like what you see? Visit the ' +\n",
              "            '<a target=\"_blank\" href=https://colab.research.google.com/notebooks/data_table.ipynb>data table notebook</a>'\n",
              "            + ' to learn more about interactive tables.';\n",
              "          element.innerHTML = '';\n",
              "          dataTable['output_type'] = 'display_data';\n",
              "          await google.colab.output.renderOutput(dataTable, element);\n",
              "          const docLink = document.createElement('div');\n",
              "          docLink.innerHTML = docLinkHtml;\n",
              "          element.appendChild(docLink);\n",
              "        }\n",
              "      </script>\n",
              "    </div>\n",
              "  </div>\n",
              "  "
            ]
          },
          "metadata": {},
          "execution_count": 101
        }
      ]
    },
    {
      "cell_type": "code",
      "source": [
        "pd.read_csv('check.csv').shape"
      ],
      "metadata": {
        "colab": {
          "base_uri": "https://localhost:8080/"
        },
        "id": "Y5q9Pz4J09UR",
        "outputId": "2b749a9f-337e-4998-86fc-92795d530f65"
      },
      "execution_count": 68,
      "outputs": [
        {
          "output_type": "execute_result",
          "data": {
            "text/plain": [
              "(3443, 11)"
            ]
          },
          "metadata": {},
          "execution_count": 68
        }
      ]
    },
    {
      "cell_type": "code",
      "source": [
        "from clearml import Task\n",
        "task = Task.init(\"VKR\", \"ssd train_4\")\n",
        "print('test')\n",
        "task.close()"
      ],
      "metadata": {
        "colab": {
          "base_uri": "https://localhost:8080/"
        },
        "id": "dbwylJe01Jd3",
        "outputId": "b459c9fa-e6ec-4879-b3ee-08b3c2940f86"
      },
      "execution_count": 69,
      "outputs": [
        {
          "output_type": "stream",
          "name": "stdout",
          "text": [
            "ClearML Task: created new task id=81af20d6212d4eab8146c20817a1221c\n",
            "2022-05-24 20:50:42,129 - clearml.Task - INFO - No repository found, storing script code instead\n",
            "ClearML results page: https://app.clear.ml/projects/0f5414c429db4b37aaed93ca752cef40/experiments/81af20d6212d4eab8146c20817a1221c/output/log\n",
            "test\n",
            "ClearML Monitor: GPU monitoring failed getting GPU reading, switching off GPU monitoring\n"
          ]
        }
      ]
    },
    {
      "cell_type": "code",
      "execution_count": 70,
      "metadata": {
        "id": "FMxGbuHtWLNl",
        "colab": {
          "base_uri": "https://localhost:8080/",
          "height": 801
        },
        "outputId": "038ae365-9f3c-46b3-c4df-8f8d80f33253"
      },
      "outputs": [
        {
          "output_type": "stream",
          "name": "stdout",
          "text": [
            "ClearML Task: created new task id=3dbd3cd2b9e64734b8e675347c102b16\n",
            "ClearML results page: https://app.clear.ml/projects/9105a581d4b14101b23a61c14a69434e/experiments/3dbd3cd2b9e64734b8e675347c102b16/output/log\n",
            "2022-05-24 20:56:59,332 - clearml.Task - INFO - No repository found, storing script code instead\n"
          ]
        },
        {
          "output_type": "display_data",
          "data": {
            "text/plain": [
              "<Figure size 432x288 with 1 Axes>"
            ],
            "image/png": "[encoded data removed]"
          },
          "metadata": {
            "needs_background": "light"
          }
        },
        {
          "output_type": "stream",
          "name": "stdout",
          "text": [
            "[t-SNE] Computing 121 nearest neighbors...\n",
            "[t-SNE] Indexed 2000 samples in 0.001s...\n",
            "[t-SNE] Computed neighbors for 2000 samples in 0.288s...\n",
            "[t-SNE] Computed conditional probabilities for sample 1000 / 2000\n",
            "[t-SNE] Computed conditional probabilities for sample 2000 / 2000\n",
            "[t-SNE] Mean sigma: 0.022730\n",
            "ClearML Monitor: GPU monitoring failed getting GPU reading, switching off GPU monitoring\n",
            "[t-SNE] KL divergence after 250 iterations with early exaggeration: 60.674934\n",
            "[t-SNE] KL divergence after 300 iterations: 1.288257\n"
          ]
        },
        {
          "output_type": "display_data",
          "data": {
            "text/plain": [
              "<Figure size 432x288 with 1 Axes>"
            ],
            "image/png": "[encoded data removed]"
          },
          "metadata": {
            "needs_background": "light"
          }
        }
      ],
      "source": [
        "from clearml import Task \n",
        "task = Task.init(\"predict_analysis\", \"graph\")\n",
        "visualization(ori_data, generated_data, 'pca')\n",
        "visualization(ori_data, generated_data, 'tsne')\n",
        "task.close()"
      ]
    },
    {
      "cell_type": "code",
      "source": [
        ""
      ],
      "metadata": {
        "id": "PzINMrTuwtf6"
      },
      "execution_count": null,
      "outputs": []
    }
  ],
  "metadata": {
    "colab": {
      "name": "gan_gen.ipynb",
      "provenance": [],
      "collapsed_sections": [],
      "authorship_tag": "ABX9TyPWOqeZVXRM57OMoPjR188H"
    },
    "kernelspec": {
      "display_name": "Python 3",
      "name": "python3"
    },
    "language_info": {
      "name": "python"
    }
  },
  "nbformat": 4,
  "nbformat_minor": 0
}